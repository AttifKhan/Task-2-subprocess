{
 "cells": [
  {
   "cell_type": "code",
   "execution_count": 1,
   "id": "038416cc",
   "metadata": {},
   "outputs": [
    {
     "name": "stdout",
     "output_type": "stream",
     "text": [
      "\r\n",
      "Windows IP Configuration\r\n",
      "\r\n",
      "\r\n",
      "Ethernet adapter Ethernet:\r\n",
      "\r\n",
      "   Media State . . . . . . . . . . . : Media disconnected\r\n",
      "   Connection-specific DNS Suffix  . : \r\n",
      "\r\n",
      "Wireless LAN adapter Local Area Connection* 3:\r\n",
      "\r\n",
      "   Media State . . . . . . . . . . . : Media disconnected\r\n",
      "   Connection-specific DNS Suffix  . : \r\n",
      "\r\n",
      "Wireless LAN adapter Local Area Connection* 4:\r\n",
      "\r\n",
      "   Media State . . . . . . . . . . . : Media disconnected\r\n",
      "   Connection-specific DNS Suffix  . : \r\n",
      "\r\n",
      "Wireless LAN adapter Wi-Fi:\r\n",
      "\r\n",
      "   Connection-specific DNS Suffix  . : \r\n",
      "   Link-local IPv6 Address . . . . . : fe80::5181:aa34:f503:fac3%9\r\n",
      "   IPv4 Address. . . . . . . . . . . : 192.168.0.105\r\n",
      "   Subnet Mask . . . . . . . . . . . : 255.255.255.0\r\n",
      "   Default Gateway . . . . . . . . . : 192.168.0.1\r\n",
      "\n"
     ]
    }
   ],
   "source": [
    "import subprocess\n",
    "\n",
    "command = 'ipconfig'\n",
    "command_output = subprocess.check_output(command, shell=True)\n",
    "output_string = command_output.decode('utf-8')\n",
    "print(output_string)"
   ]
  },
  {
   "cell_type": "code",
   "execution_count": null,
   "id": "9c766ee6",
   "metadata": {},
   "outputs": [],
   "source": []
  }
 ],
 "metadata": {
  "kernelspec": {
   "display_name": "Python 3 (ipykernel)",
   "language": "python",
   "name": "python3"
  },
  "language_info": {
   "codemirror_mode": {
    "name": "ipython",
    "version": 3
   },
   "file_extension": ".py",
   "mimetype": "text/x-python",
   "name": "python",
   "nbconvert_exporter": "python",
   "pygments_lexer": "ipython3",
   "version": "3.11.3"
  }
 },
 "nbformat": 4,
 "nbformat_minor": 5
}
